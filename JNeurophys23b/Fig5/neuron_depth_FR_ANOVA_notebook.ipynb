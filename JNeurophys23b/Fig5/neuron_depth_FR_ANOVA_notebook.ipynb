{
 "cells": [
  {
   "cell_type": "code",
   "execution_count": 10,
   "metadata": {},
   "outputs": [],
   "source": [
    "import pandas as pd\n",
    "import statsmodels.api as sm\n",
    "from statsmodels.formula.api import ols"
   ]
  },
  {
   "cell_type": "code",
   "execution_count": 13,
   "metadata": {},
   "outputs": [
    {
     "data": {
      "text/plain": [
       "{1:                         sum_sq      df          F        PR(>F)\n",
       " C(group)           2210.458718     2.0  17.977250  1.813586e-08\n",
       " C(loc)             1976.612644     7.0   4.592978  4.157126e-05\n",
       " C(group):C(loc)      42.833551    14.0   0.049765  9.999999e-01\n",
       " Residual         129352.518262  2104.0        NaN           NaN,\n",
       " 2:                         sum_sq      df          F        PR(>F)\n",
       " C(group)           2013.986494     2.0  15.555650  2.046860e-07\n",
       " C(loc)             1291.169783     7.0   2.849357  5.902275e-03\n",
       " C(group):C(loc)      46.209599    14.0   0.050988  9.999999e-01\n",
       " Residual         100468.546279  1552.0        NaN           NaN}"
      ]
     },
     "execution_count": 13,
     "metadata": {},
     "output_type": "execute_result"
    }
   ],
   "source": [
    "# load data\n",
    "data_fix = pd.read_csv('tbl_for_anova_fix.csv')\n",
    "\n",
    "# Perform two-way ANOVA for each stage separately\n",
    "anova_tables_stage = {}\n",
    "\n",
    "for stage in data_fix['stage'].unique():\n",
    "    data_fix_stage = data_fix[data_fix['stage'] == stage]\n",
    "    \n",
    "    # Analyze the main effect of 'group' and 'loc' on 'rate' and their interactions\n",
    "    model_fix_stage = ols('rate ~ C(group) + C(loc) + C(group):C(loc)', data=data_fix_stage).fit()\n",
    "    anova_tables_stage[stage] = sm.stats.anova_lm(model_fix_stage, typ=2)\n",
    "\n",
    "anova_tables_stage\n"
   ]
  },
  {
   "cell_type": "code",
   "execution_count": null,
   "metadata": {},
   "outputs": [],
   "source": [
    "# Perform one-way ANOVA for each stage separately with only 'group' as a factor\n",
    "anova_tables_stage_group_only = {}\n",
    "\n",
    "for stage in data_fix['stage'].unique():\n",
    "    data_fix_stage = data_fix[data_fix['stage'] == stage]\n",
    "    \n",
    "    # Analyze the main effect of 'group' on 'rate'\n",
    "    model_fix_stage_group_only = ols('rate ~ C(group)', data=data_fix_stage).fit()\n",
    "    anova_tables_stage_group_only[stage] = sm.stats.anova_lm(model_fix_stage_group_only, typ=2)\n",
    "\n",
    "anova_tables_stage_group_only\n"
   ]
  },
  {
   "cell_type": "code",
   "execution_count": null,
   "metadata": {},
   "outputs": [],
   "source": [
    "# Filter the data to include only rows with 'loc' equal to 5 from the new dataset\n",
    "data_cue_loc5_new = data_cue_new[data_cue_new['loc'] == 5]\n",
    "\n",
    "# Perform one-way ANOVA for each stage separately with only 'group' as a factor for the data with loc=5\n",
    "anova_tables_stage_group_loc5_new = {}\n",
    "\n",
    "for stage in data_cue_loc5_new['stage'].unique():\n",
    "    data_cue_stage_loc5_new = data_cue_loc5_new[data_cue_loc5_new['stage'] == stage]\n",
    "    \n",
    "    # Analyze the main effect of 'group' on 'rate'\n",
    "    model_cue_stage_group_only_loc5_new = ols('rate ~ C(group)', data=data_cue_stage_loc5_new).fit()\n",
    "    anova_tables_stage_group_loc5_new[stage] = sm.stats.anova_lm(model_cue_stage_group_only_loc5_new, typ=2)\n",
    "\n",
    "anova_tables_stage_group_loc5_new\n"
   ]
  }
 ],
 "metadata": {
  "kernelspec": {
   "display_name": "fanofactor",
   "language": "python",
   "name": "python3"
  },
  "language_info": {
   "codemirror_mode": {
    "name": "ipython",
    "version": 3
   },
   "file_extension": ".py",
   "mimetype": "text/x-python",
   "name": "python",
   "nbconvert_exporter": "python",
   "pygments_lexer": "ipython3",
   "version": "3.8.16"
  },
  "orig_nbformat": 4
 },
 "nbformat": 4,
 "nbformat_minor": 2
}
